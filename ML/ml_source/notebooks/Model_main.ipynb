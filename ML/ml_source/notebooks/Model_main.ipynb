{
 "cells": [
  {
   "cell_type": "markdown",
   "id": "ead0f055",
   "metadata": {},
   "source": [
    "<p>Импортируем необходимые зависимости"
   ]
  },
  {
   "cell_type": "code",
   "execution_count": 1,
   "id": "d66d0172",
   "metadata": {},
   "outputs": [
    {
     "name": "stderr",
     "output_type": "stream",
     "text": [
      "[nltk_data] Downloading package stopwords to\n",
      "[nltk_data]     C:\\Users\\galic\\AppData\\Roaming\\nltk_data...\n",
      "[nltk_data]   Package stopwords is already up-to-date!\n"
     ]
    }
   ],
   "source": [
    "from numpy import genfromtxt\n",
    "import pandas as pd\n",
    "import re\n",
    "import numpy as np\n",
    "\n",
    "from sklearn.model_selection import train_test_split\n",
    "from sklearn.feature_extraction.text import TfidfVectorizer\n",
    "from sklearn.model_selection import GridSearchCV\n",
    "\n",
    "import nltk\n",
    "nltk.download('stopwords')\n",
    "from nltk.corpus import stopwords"
   ]
  },
  {
   "cell_type": "markdown",
   "id": "096ec966",
   "metadata": {},
   "source": [
    "Функция предварительной обработки комментариев"
   ]
  },
  {
   "cell_type": "code",
   "execution_count": 2,
   "id": "2b425196",
   "metadata": {},
   "outputs": [],
   "source": [
    "def prepare_rewiew(text):\n",
    "    try:\n",
    "        final = re.sub('[!|#|$|\\%|&|@|[|\\]|\\_|.|,|\\n|?]+', ' ', text).lower().strip()\n",
    "        final = final if final else None\n",
    "        return final \n",
    "    except AttributeError:\n",
    "        return text.lower().strip() if text.lower().strip() else None"
   ]
  },
  {
   "cell_type": "markdown",
   "id": "1de76c02",
   "metadata": {},
   "source": [
    "Загрузка датасета для обучения"
   ]
  },
  {
   "cell_type": "code",
   "execution_count": 3,
   "id": "d90b7877",
   "metadata": {},
   "outputs": [
    {
     "data": {
      "text/html": [
       "<div>\n",
       "<style scoped>\n",
       "    .dataframe tbody tr th:only-of-type {\n",
       "        vertical-align: middle;\n",
       "    }\n",
       "\n",
       "    .dataframe tbody tr th {\n",
       "        vertical-align: top;\n",
       "    }\n",
       "\n",
       "    .dataframe thead th {\n",
       "        text-align: right;\n",
       "    }\n",
       "</style>\n",
       "<table border=\"1\" class=\"dataframe\">\n",
       "  <thead>\n",
       "    <tr style=\"text-align: right;\">\n",
       "      <th></th>\n",
       "      <th>comment</th>\n",
       "      <th>tone</th>\n",
       "    </tr>\n",
       "  </thead>\n",
       "  <tbody>\n",
       "    <tr>\n",
       "      <th>0</th>\n",
       "      <td>благодарю за заказ  рада получению  но заказыв...</td>\n",
       "      <td>2.0</td>\n",
       "    </tr>\n",
       "    <tr>\n",
       "      <th>1</th>\n",
       "      <td>все подошло  отличное качество</td>\n",
       "      <td>1.0</td>\n",
       "    </tr>\n",
       "    <tr>\n",
       "      <th>2</th>\n",
       "      <td>упаковано все хорошо  только транспортировочна...</td>\n",
       "      <td>2.0</td>\n",
       "    </tr>\n",
       "    <tr>\n",
       "      <th>3</th>\n",
       "      <td>быстро  удобно</td>\n",
       "      <td>1.0</td>\n",
       "    </tr>\n",
       "    <tr>\n",
       "      <th>5</th>\n",
       "      <td>отличные стержни  не хуже родных от berlingo</td>\n",
       "      <td>1.0</td>\n",
       "    </tr>\n",
       "  </tbody>\n",
       "</table>\n",
       "</div>"
      ],
      "text/plain": [
       "                                             comment  tone\n",
       "0  благодарю за заказ  рада получению  но заказыв...   2.0\n",
       "1                     все подошло  отличное качество   1.0\n",
       "2  упаковано все хорошо  только транспортировочна...   2.0\n",
       "3                                     быстро  удобно   1.0\n",
       "5       отличные стержни  не хуже родных от berlingo   1.0"
      ]
     },
     "execution_count": 3,
     "metadata": {},
     "output_type": "execute_result"
    }
   ],
   "source": [
    "converters = {'data': prepare_rewiew,\n",
    "             }\n",
    "dataset = pd.read_csv('./datasets/train.csv', sep=';', header=0, converters = converters) \\\n",
    "    .rename(columns={\"data\": \"comment\", 'tone': 'tone'})\n",
    "dataset = dataset.dropna()\n",
    "dataset.head(5)"
   ]
  },
  {
   "cell_type": "markdown",
   "id": "28d4e685",
   "metadata": {},
   "source": [
    "Определение распрделения категорий в обучающей выборке"
   ]
  },
  {
   "cell_type": "code",
   "execution_count": 4,
   "id": "c7eb5b36",
   "metadata": {},
   "outputs": [
    {
     "data": {
      "text/plain": [
       "<Axes: xlabel='tone', ylabel='count'>"
      ]
     },
     "execution_count": 4,
     "metadata": {},
     "output_type": "execute_result"
    },
    {
     "data": {
      "image/png": "[encoded data removed]",
      "text/plain": [
       "<Figure size 640x480 with 1 Axes>"
      ]
     },
     "metadata": {},
     "output_type": "display_data"
    }
   ],
   "source": [
    "import seaborn as sns\n",
    "sns.countplot(data=dataset, x=\"tone\")"
   ]
  },
  {
   "cell_type": "markdown",
   "id": "0d5ae682",
   "metadata": {},
   "source": [
    "Формаирование стоп-слов"
   ]
  },
  {
   "cell_type": "code",
   "execution_count": 5,
   "id": "4060bffa",
   "metadata": {},
   "outputs": [],
   "source": [
    "additional_stopwords = ['которых','которые','твой','которой','которого','сих','ком','свой','твоя','этими','слишком','нами','всему', 'будь','саму','чаще','ваше','сами','наш','затем', 'самих','наши','ту','каждое','мочь','весь','этим', 'наша','своих','оба','который','зато','те','этих','вся', 'ваш','такая','теми','ею','которая','нередко','каждая', 'также','чему','собой','самими','нем','вами','ими', 'откуда','такие','тому','та','очень','сама','нему',\n",
    "'алло','оно','этому','кому','тобой','таки','твоё', 'каждые','твои','нею','самим','ваши','ваша','кем','мои','однако','сразу','свое','ними','всё','неё','тех','хотя','всем','тобою','тебе','одной','другие','само','эта', 'самой','моё','своей','такое','всею','будут','своего', 'кого','свои','мог','нам','особенно','её','самому',\n",
    "'наше','кроме','вообще','вон','мною','никто','это']\n",
    "\n",
    "stop_words = stopwords.words('russian') + additional_stopwords"
   ]
  },
  {
   "cell_type": "markdown",
   "id": "abf4c9d5",
   "metadata": {},
   "source": [
    "Формирование обучающей выборки и тестового подмножества"
   ]
  },
  {
   "cell_type": "code",
   "execution_count": 6,
   "id": "da97db4c",
   "metadata": {},
   "outputs": [],
   "source": [
    "x_train, x_test, y_train, y_test = train_test_split(dataset['comment'], dataset['tone'], test_size=0.25, random_state=0)\n"
   ]
  },
  {
   "cell_type": "markdown",
   "id": "e041cf35",
   "metadata": {},
   "source": [
    "Обучение модели векторизации текста по методу Tfidf"
   ]
  },
  {
   "cell_type": "code",
   "execution_count": 7,
   "id": "93bc6dc5",
   "metadata": {},
   "outputs": [
    {
     "data": {
      "text/plain": [
       "TfidfVectorizer(smooth_idf=False,\n",
       "                stop_words=['и', 'в', 'во', 'не', 'что', 'он', 'на', 'я', 'с',\n",
       "                            'со', 'как', 'а', 'то', 'все', 'она', 'так', 'его',\n",
       "                            'но', 'да', 'ты', 'к', 'у', 'же', 'вы', 'за', 'бы',\n",
       "                            'по', 'только', 'ее', 'мне', ...])"
      ]
     },
     "execution_count": 7,
     "metadata": {},
     "output_type": "execute_result"
    }
   ],
   "source": [
    "vectorizer = TfidfVectorizer(lowercase=True, stop_words=stop_words,\n",
    "                             use_idf=True, ngram_range=(1,1),\n",
    "                             smooth_idf=False)\n",
    "vectorizer.fit(dataset['comment'])"
   ]
  },
  {
   "cell_type": "markdown",
   "id": "bafc7e7f",
   "metadata": {},
   "source": [
    "Веторизация подмножеств для обучения"
   ]
  },
  {
   "cell_type": "code",
   "execution_count": 8,
   "id": "bc574044",
   "metadata": {},
   "outputs": [],
   "source": [
    "X_train = vectorizer.transform(x_train)\n",
    "X_test  = vectorizer.transform(x_test)"
   ]
  },
  {
   "cell_type": "markdown",
   "id": "8d05ca7b",
   "metadata": {},
   "source": [
    "Обучение моделей Логистической регрессии и выбор лучшей"
   ]
  },
  {
   "cell_type": "code",
   "execution_count": 9,
   "id": "81f2b353",
   "metadata": {},
   "outputs": [
    {
     "name": "stdout",
     "output_type": "stream",
     "text": [
      "Fitting 3 folds for each of 33 candidates, totalling 99 fits\n"
     ]
    },
    {
     "name": "stderr",
     "output_type": "stream",
     "text": [
      "C:\\Users\\galic\\anaconda3\\lib\\site-packages\\sklearn\\model_selection\\_validation.py:372: FitFailedWarning: \n",
      "6 fits failed out of a total of 99.\n",
      "The score on these train-test partitions for these parameters will be set to nan.\n",
      "If these failures are not expected, you can try to debug them by setting error_score='raise'.\n",
      "\n",
      "Below are more details about the failures:\n",
      "--------------------------------------------------------------------------------\n",
      "3 fits failed with the following error:\n",
      "Traceback (most recent call last):\n",
      "  File \"C:\\Users\\galic\\anaconda3\\lib\\site-packages\\sklearn\\model_selection\\_validation.py\", line 680, in _fit_and_score\n",
      "    estimator.fit(X_train, y_train, **fit_params)\n",
      "  File \"C:\\Users\\galic\\anaconda3\\lib\\site-packages\\sklearn\\linear_model\\_logistic.py\", line 1461, in fit\n",
      "    solver = _check_solver(self.solver, self.penalty, self.dual)\n",
      "  File \"C:\\Users\\galic\\anaconda3\\lib\\site-packages\\sklearn\\linear_model\\_logistic.py\", line 447, in _check_solver\n",
      "    raise ValueError(\n",
      "ValueError: Solver lbfgs supports only 'l2' or 'none' penalties, got elasticnet penalty.\n",
      "\n",
      "--------------------------------------------------------------------------------\n",
      "3 fits failed with the following error:\n",
      "Traceback (most recent call last):\n",
      "  File \"C:\\Users\\galic\\anaconda3\\lib\\site-packages\\sklearn\\model_selection\\_validation.py\", line 680, in _fit_and_score\n",
      "    estimator.fit(X_train, y_train, **fit_params)\n",
      "  File \"C:\\Users\\galic\\anaconda3\\lib\\site-packages\\sklearn\\linear_model\\_logistic.py\", line 1461, in fit\n",
      "    solver = _check_solver(self.solver, self.penalty, self.dual)\n",
      "  File \"C:\\Users\\galic\\anaconda3\\lib\\site-packages\\sklearn\\linear_model\\_logistic.py\", line 447, in _check_solver\n",
      "    raise ValueError(\n",
      "ValueError: Solver lbfgs supports only 'l2' or 'none' penalties, got l1 penalty.\n",
      "\n",
      "  warnings.warn(some_fits_failed_message, FitFailedWarning)\n",
      "C:\\Users\\galic\\anaconda3\\lib\\site-packages\\sklearn\\model_selection\\_search.py:969: UserWarning: One or more of the test scores are non-finite: [0.82028986 0.82028986 0.8057971  0.82028986 0.82028986 0.79104084\n",
      "        nan        nan 0.82028986 0.42687747 0.42687747 0.42687747\n",
      " 0.42687747 0.42687747 0.45638999 0.51725955 0.61475626 0.7372859\n",
      " 0.80447958 0.82160738 0.828722   0.84137022 0.83188406 0.82476943\n",
      " 0.81396574 0.80527009 0.79841897 0.79025033 0.78629776 0.82028986\n",
      " 0.82028986 0.82028986 0.82028986]\n",
      "  warnings.warn(\n"
     ]
    },
    {
     "data": {
      "text/plain": [
       "0.84913112164297"
      ]
     },
     "execution_count": 9,
     "metadata": {},
     "output_type": "execute_result"
    }
   ],
   "source": [
    "from sklearn.linear_model import LogisticRegression\n",
    "\n",
    "param_grid = [{'solver': ['newton-cg', 'lbfgs', 'liblinear', 'sag', 'saga']},\n",
    "              {'penalty':['none', 'elasticnet', 'l1', 'l2']},\n",
    "              {'C': np.logspace(-4, 4, 20)},\n",
    "             {'max_iter' : [100, 1000,2500, 5000]}\n",
    "             ]\n",
    "\n",
    "logreg = LogisticRegression()\n",
    "clf = GridSearchCV(logreg, param_grid = param_grid, cv = 3, verbose=True, n_jobs=-1)\n",
    "result_logreg = clf.fit(X_train, y_train)\n",
    "result_logreg.score(X_test,y_test)"
   ]
  },
  {
   "cell_type": "markdown",
   "id": "049a3617",
   "metadata": {},
   "source": [
    "Определение показателя Accuracy"
   ]
  },
  {
   "cell_type": "code",
   "execution_count": 10,
   "id": "525b7e7b",
   "metadata": {},
   "outputs": [
    {
     "name": "stdout",
     "output_type": "stream",
     "text": [
      "Accuracy - : 0.849\n"
     ]
    }
   ],
   "source": [
    "print (f'Accuracy - : {result_logreg.score(X_test,y_test):.3f}')"
   ]
  },
  {
   "cell_type": "markdown",
   "id": "9553068a",
   "metadata": {},
   "source": [
    "Сохранение модели"
   ]
  },
  {
   "cell_type": "code",
   "execution_count": 11,
   "id": "ca8416ce",
   "metadata": {},
   "outputs": [],
   "source": [
    "import pickle\n",
    "\n",
    "with open(\"main_vectorizer.pkl\", \"wb\") as f:\n",
    "    pickle.dump(vectorizer, f)\n",
    "with open(\"model_main.pkl\", \"wb\") as f:\n",
    "    pickle.dump(result_logreg, f)"
   ]
  },
  {
   "cell_type": "code",
   "execution_count": null,
   "id": "0196c6e6",
   "metadata": {},
   "outputs": [],
   "source": []
  },
  {
   "cell_type": "code",
   "execution_count": null,
   "id": "4c8908da",
   "metadata": {},
   "outputs": [],
   "source": []
  }
 ],
 "metadata": {
  "kernelspec": {
   "display_name": "Python 3 (ipykernel)",
   "language": "python",
   "name": "python3"
  },
  "language_info": {
   "codemirror_mode": {
    "name": "ipython",
    "version": 3
   },
   "file_extension": ".py",
   "mimetype": "text/x-python",
   "name": "python",
   "nbconvert_exporter": "python",
   "pygments_lexer": "ipython3",
   "version": "3.9.13"
  }
 },
 "nbformat": 4,
 "nbformat_minor": 5
}
